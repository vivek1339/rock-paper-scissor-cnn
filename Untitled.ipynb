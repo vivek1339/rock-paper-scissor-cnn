{
 "cells": [
  {
   "cell_type": "code",
   "execution_count": 1,
   "metadata": {},
   "outputs": [
    {
     "name": "stderr",
     "output_type": "stream",
     "text": [
      "C:\\Users\\vivek\\Anaconda3\\lib\\site-packages\\h5py\\__init__.py:36: FutureWarning: Conversion of the second argument of issubdtype from `float` to `np.floating` is deprecated. In future, it will be treated as `np.float64 == np.dtype(float).type`.\n",
      "  from ._conv import register_converters as _register_converters\n"
     ]
    }
   ],
   "source": [
    "import tensorflow as tf"
   ]
  },
  {
   "cell_type": "code",
   "execution_count": 2,
   "metadata": {},
   "outputs": [],
   "source": [
    "import os\n",
    "train_dir=os.path.join(os.getcwd(),'rps')\n",
    "test_dir=os.path.join(os.getcwd(),'rps-test-set')"
   ]
  },
  {
   "cell_type": "code",
   "execution_count": 3,
   "metadata": {},
   "outputs": [
    {
     "name": "stdout",
     "output_type": "stream",
     "text": [
      "Found 2520 images belonging to 3 classes.\n",
      "Found 372 images belonging to 3 classes.\n"
     ]
    }
   ],
   "source": [
    "from tensorflow.keras.preprocessing.image import ImageDataGenerator\n",
    "training_data_gen=ImageDataGenerator(zoom_range=0.2,\n",
    "                                     horizontal_flip=True,\n",
    "                                     rescale = 1./255.,\n",
    "                                   rotation_range = 40,\n",
    "                                   width_shift_range = 0.2,\n",
    "                                   height_shift_range = 0.2,\n",
    "                                   shear_range = 0.2,\n",
    "                                     fill_mode='nearest'\n",
    "                                    )\n",
    "test_data_gen=ImageDataGenerator(   rescale = 1./255.  )\n",
    "train_data=training_data_gen.flow_from_directory(train_dir,\n",
    "                                                   batch_size=32,\n",
    "                                                   class_mode='categorical',\n",
    "                                                   target_size=(150,150)\n",
    "                                                   )\n",
    "test_data=test_data_gen.flow_from_directory(test_dir,batch_size=32,\n",
    "                        class_mode='categorical',\n",
    "                        target_size=(150,150)\n",
    "                        )"
   ]
  },
  {
   "cell_type": "code",
   "execution_count": 26,
   "metadata": {},
   "outputs": [
    {
     "name": "stdout",
     "output_type": "stream",
     "text": [
      "_________________________________________________________________\n",
      "Layer (type)                 Output Shape              Param #   \n",
      "=================================================================\n",
      "conv2d_20 (Conv2D)           (None, 148, 148, 64)      1792      \n",
      "_________________________________________________________________\n",
      "max_pooling2d_20 (MaxPooling (None, 74, 74, 64)        0         \n",
      "_________________________________________________________________\n",
      "conv2d_21 (Conv2D)           (None, 72, 72, 64)        36928     \n",
      "_________________________________________________________________\n",
      "max_pooling2d_21 (MaxPooling (None, 36, 36, 64)        0         \n",
      "_________________________________________________________________\n",
      "conv2d_22 (Conv2D)           (None, 34, 34, 64)        36928     \n",
      "_________________________________________________________________\n",
      "max_pooling2d_22 (MaxPooling (None, 17, 17, 64)        0         \n",
      "_________________________________________________________________\n",
      "conv2d_23 (Conv2D)           (None, 15, 15, 128)       73856     \n",
      "_________________________________________________________________\n",
      "max_pooling2d_23 (MaxPooling (None, 7, 7, 128)         0         \n",
      "_________________________________________________________________\n",
      "conv2d_24 (Conv2D)           (None, 5, 5, 128)         147584    \n",
      "_________________________________________________________________\n",
      "max_pooling2d_24 (MaxPooling (None, 2, 2, 128)         0         \n",
      "_________________________________________________________________\n",
      "flatten_4 (Flatten)          (None, 512)               0         \n",
      "_________________________________________________________________\n",
      "dropout_1 (Dropout)          (None, 512)               0         \n",
      "_________________________________________________________________\n",
      "dense_4 (Dense)              (None, 512)               262656    \n",
      "_________________________________________________________________\n",
      "dense_5 (Dense)              (None, 3)                 1539      \n",
      "=================================================================\n",
      "Total params: 561,283\n",
      "Trainable params: 561,283\n",
      "Non-trainable params: 0\n",
      "_________________________________________________________________\n"
     ]
    }
   ],
   "source": [
    "from tensorflow.keras.optimizers import RMSprop\n",
    "model=tf.keras.models.Sequential([tf.keras.layers.Conv2D(64,(3,3),input_shape=(150,150,3),activation='relu'),\n",
    "                                  tf.keras.layers.MaxPooling2D(2,2),\n",
    "                                  tf.keras.layers.Conv2D(64,(3,3),activation='relu'),\n",
    "                                  tf.keras.layers.MaxPooling2D(2,2),\n",
    "                                  tf.keras.layers.Conv2D(64,(3,3),activation='relu'),\n",
    "                                  tf.keras.layers.MaxPooling2D(2,2),\n",
    "                                  tf.keras.layers.Conv2D(128, (3,3), activation='relu'),\n",
    "                                  tf.keras.layers.MaxPooling2D(2,2),\n",
    "                                  tf.keras.layers.Conv2D(128, (3,3), activation='relu'),\n",
    "                                  tf.keras.layers.MaxPooling2D(2,2),\n",
    "                                  tf.keras.layers.Flatten(),\n",
    "                                  tf.keras.layers.Dropout(0.2),\n",
    "                                  tf.keras.layers.Dense(512,activation='relu'),\n",
    "                                  tf.keras.layers.Dense(3,activation='softmax')\n",
    "                                 ])\n",
    "model.compile(optimizer=RMSprop(lr=0.001),loss='categorical_crossentropy',metrics=['accuracy'])\n",
    "model.summary()"
   ]
  },
  {
   "cell_type": "code",
   "execution_count": 27,
   "metadata": {},
   "outputs": [],
   "source": [
    "class mycallback(tf.keras.callbacks.Callback):\n",
    "    epochs=0\n",
    "    def on_epoch_end(self,epoch,logs={}):\n",
    "        if(logs.get('val_acc')>=0.98):\n",
    "            print(\"\\nValidation Accuracy reached 98%. Stopping Training!!\")\n",
    "            model.stop_training=True\n",
    "            epochs=epoch\n",
    "callback=mycallback()"
   ]
  },
  {
   "cell_type": "code",
   "execution_count": 28,
   "metadata": {},
   "outputs": [
    {
     "name": "stdout",
     "output_type": "stream",
     "text": [
      "Epoch 1/20\n",
      "79/79 [==============================] - 20s 251ms/step - loss: 1.0935 - acc: 0.4007 - val_loss: 0.9182 - val_acc: 0.6694\n",
      "Epoch 2/20\n",
      "79/79 [==============================] - 19s 241ms/step - loss: 0.8190 - acc: 0.6468 - val_loss: 0.2486 - val_acc: 0.9758\n",
      "Epoch 3/20\n",
      "79/79 [==============================] - 18s 232ms/step - loss: 0.6297 - acc: 0.7495 - val_loss: 0.4470 - val_acc: 0.8629\n",
      "Epoch 4/20\n",
      "79/79 [==============================] - 19s 241ms/step - loss: 0.4176 - acc: 0.8480 - val_loss: 0.0960 - val_acc: 0.9785\n",
      "Epoch 5/20\n",
      "79/79 [==============================] - 19s 237ms/step - loss: 0.3072 - acc: 0.8861 - val_loss: 0.0350 - val_acc: 0.9839\n",
      "Epoch 6/20\n",
      "79/79 [==============================] - 19s 242ms/step - loss: 0.2578 - acc: 0.9118 - val_loss: 0.0143 - val_acc: 1.0000\n",
      "Epoch 7/20\n",
      "79/79 [==============================] - 19s 235ms/step - loss: 0.2113 - acc: 0.9263 - val_loss: 0.1961 - val_acc: 0.8763\n",
      "Epoch 8/20\n",
      "79/79 [==============================] - 19s 237ms/step - loss: 0.1884 - acc: 0.9395 - val_loss: 0.0268 - val_acc: 0.9919\n",
      "Epoch 9/20\n",
      "79/79 [==============================] - 19s 237ms/step - loss: 0.1468 - acc: 0.9496 - val_loss: 0.0299 - val_acc: 0.9839\n",
      "Epoch 10/20\n",
      "79/79 [==============================] - 19s 244ms/step - loss: 0.1341 - acc: 0.9569 - val_loss: 0.0949 - val_acc: 0.9651\n",
      "Epoch 11/20\n",
      "79/79 [==============================] - 19s 235ms/step - loss: 0.1540 - acc: 0.9520 - val_loss: 0.2863 - val_acc: 0.8844\n",
      "Epoch 12/20\n",
      "79/79 [==============================] - 19s 236ms/step - loss: 0.1214 - acc: 0.9589 - val_loss: 0.0506 - val_acc: 0.9892\n",
      "Epoch 13/20\n",
      "79/79 [==============================] - 19s 237ms/step - loss: 0.1325 - acc: 0.9628 - val_loss: 0.0906 - val_acc: 0.9677\n",
      "Epoch 14/20\n",
      "79/79 [==============================] - 19s 237ms/step - loss: 0.1297 - acc: 0.9632 - val_loss: 0.0689 - val_acc: 0.9758\n",
      "Epoch 15/20\n",
      "79/79 [==============================] - 19s 237ms/step - loss: 0.0910 - acc: 0.9703 - val_loss: 0.0376 - val_acc: 0.9758\n",
      "Epoch 16/20\n",
      "79/79 [==============================] - 19s 237ms/step - loss: 0.1015 - acc: 0.9727 - val_loss: 0.1303 - val_acc: 0.9543\n",
      "Epoch 17/20\n",
      "79/79 [==============================] - 19s 235ms/step - loss: 0.0988 - acc: 0.9703 - val_loss: 0.0559 - val_acc: 0.9785\n",
      "Epoch 18/20\n",
      "79/79 [==============================] - 19s 243ms/step - loss: 0.1253 - acc: 0.9636 - val_loss: 0.1003 - val_acc: 0.9704\n",
      "Epoch 19/20\n",
      "79/79 [==============================] - 18s 230ms/step - loss: 0.0949 - acc: 0.9707 - val_loss: 0.3813 - val_acc: 0.9140\n",
      "Epoch 20/20\n",
      "79/79 [==============================] - 19s 239ms/step - loss: 0.0803 - acc: 0.9732 - val_loss: 0.0640 - val_acc: 0.9812\n"
     ]
    }
   ],
   "source": [
    "history=model.fit_generator(train_data,  \n",
    "      epochs=20,\n",
    "      verbose=1,\n",
    "      validation_data = test_data,\n",
    "        #callbacks=[callback]\n",
    "        )"
   ]
  },
  {
   "cell_type": "code",
   "execution_count": 29,
   "metadata": {},
   "outputs": [
    {
     "data": {
      "image/png": "[encoded data removed]",
      "text/plain": [
       "<matplotlib.figure.Figure at 0x21a86fa74e0>"
      ]
     },
     "metadata": {},
     "output_type": "display_data"
    },
    {
     "data": {
      "text/plain": [
       "<matplotlib.figure.Figure at 0x21a86f725c0>"
      ]
     },
     "metadata": {},
     "output_type": "display_data"
    }
   ],
   "source": [
    "import matplotlib.pyplot as plt\n",
    "acc = history.history['acc']\n",
    "val_acc = history.history['val_acc']\n",
    "loss = history.history['loss']\n",
    "val_loss = history.history['val_loss']\n",
    "\n",
    "epochs = range(len(acc))\n",
    "\n",
    "plt.plot(epochs, acc, 'r', label='Training accuracy')\n",
    "plt.plot(epochs, val_acc, 'b', label='Validation accuracy')\n",
    "plt.title('Training and validation accuracy ')\n",
    "plt.legend(loc=0)\n",
    "plt.figure()\n",
    "\n",
    "\n",
    "plt.show()"
   ]
  },
  {
   "cell_type": "code",
   "execution_count": null,
   "metadata": {},
   "outputs": [],
   "source": []
  }
 ],
 "metadata": {
  "kernelspec": {
   "display_name": "Python 3",
   "language": "python",
   "name": "python3"
  },
  "language_info": {
   "codemirror_mode": {
    "name": "ipython",
    "version": 3
   },
   "file_extension": ".py",
   "mimetype": "text/x-python",
   "name": "python",
   "nbconvert_exporter": "python",
   "pygments_lexer": "ipython3",
   "version": "3.6.4"
  }
 },
 "nbformat": 4,
 "nbformat_minor": 2
}
